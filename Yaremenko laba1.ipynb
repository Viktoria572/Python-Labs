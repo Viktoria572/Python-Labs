{
  "nbformat": 4,
  "nbformat_minor": 0,
  "metadata": {
    "colab": {
      "provenance": []
    },
    "kernelspec": {
      "name": "python3",
      "display_name": "Python 3"
    },
    "language_info": {
      "name": "python"
    }
  },
  "cells": [
    {
      "cell_type": "markdown",
      "source": [
        "# Яременко Вікторія Практична робота №1. Варіант 31(1)"
      ],
      "metadata": {
        "id": "1W7WXmOmmqny"
      }
    },
    {
      "cell_type": "markdown",
      "source": [
        "1. Створіть одновимірний масив (вектор) з останніми 10-ма натуральними числами та виведіть його значення.  "
      ],
      "metadata": {
        "id": "jpn8XyuBnuzk"
      }
    },
    {
      "cell_type": "code",
      "source": [
        "\n",
        "nat_numbers = list(range(1, 11))\n",
        "print(nat_numbers)\n"
      ],
      "metadata": {
        "colab": {
          "base_uri": "https://localhost:8080/"
        },
        "id": "WDM-wMc8n7Sj",
        "outputId": "62f48689-bcda-411b-c7be-c6019a3b8eab"
      },
      "execution_count": 3,
      "outputs": [
        {
          "output_type": "stream",
          "name": "stdout",
          "text": [
            "[1, 2, 3, 4, 5, 6, 7, 8, 9, 10]\n"
          ]
        }
      ]
    },
    {
      "cell_type": "markdown",
      "source": [
        "2. Створіть двовимірний масив (матрицю) розміром 4x4, заповніть його одиницями та виведіть його значення."
      ],
      "metadata": {
        "id": "4HR8ZVjFoOCL"
      }
    },
    {
      "cell_type": "code",
      "source": [
        "\n",
        "matrix = [[1, 1, 1, 1],\n",
        "          [1, 1, 1, 1],\n",
        "          [1, 1, 1, 1],\n",
        "          [1, 1, 1, 1]]\n",
        "\n",
        "for row in matrix:\n",
        "    print(row)\n"
      ],
      "metadata": {
        "colab": {
          "base_uri": "https://localhost:8080/"
        },
        "id": "l8_XW-zIoXnc",
        "outputId": "2c7d706f-8269-4785-e580-13db840215e8"
      },
      "execution_count": 5,
      "outputs": [
        {
          "output_type": "stream",
          "name": "stdout",
          "text": [
            "[1, 1, 1, 1]\n",
            "[1, 1, 1, 1]\n",
            "[1, 1, 1, 1]\n",
            "[1, 1, 1, 1]\n"
          ]
        }
      ]
    },
    {
      "cell_type": "markdown",
      "source": [
        "3. Створіть масив розміром 4x4, заповніть його випадковими цілими числами в діапазоні від 1 до 100 та виведіть його значення."
      ],
      "metadata": {
        "id": "iw8GleO-pJvD"
      }
    },
    {
      "cell_type": "code",
      "source": [
        "import random\n",
        "\n",
        "matrix = [[random.randint(1, 100) for _ in range(4)] for _ in range(4)]\n",
        "\n",
        "for row in matrix:\n",
        "    print(row)\n"
      ],
      "metadata": {
        "colab": {
          "base_uri": "https://localhost:8080/"
        },
        "id": "Uldg7NkmpN47",
        "outputId": "5c1eb2ea-ebb4-4f2d-c0fe-a50a25e5e859"
      },
      "execution_count": 6,
      "outputs": [
        {
          "output_type": "stream",
          "name": "stdout",
          "text": [
            "[62, 58, 66, 54]\n",
            "[13, 38, 70, 82]\n",
            "[82, 35, 31, 19]\n",
            "[47, 23, 86, 34]\n"
          ]
        }
      ]
    },
    {
      "cell_type": "markdown",
      "source": [
        "4. Створіть масив розміром 3x3, заповніть його випадковими дійсними числами в діапазоні від 0 до 1 та виведіть його значення."
      ],
      "metadata": {
        "id": "wbH56Wj6pg50"
      }
    },
    {
      "cell_type": "code",
      "source": [
        "import random\n",
        "\n",
        "matrix = [[random.uniform(0, 1) for _ in range(3)] for _ in range(3)]\n",
        "\n",
        "for row in matrix:\n",
        "    print(row)\n"
      ],
      "metadata": {
        "colab": {
          "base_uri": "https://localhost:8080/"
        },
        "id": "MsDXxrTfpj0C",
        "outputId": "d0770391-a425-4d9b-e4fe-d9bbf630745a"
      },
      "execution_count": 7,
      "outputs": [
        {
          "output_type": "stream",
          "name": "stdout",
          "text": [
            "[0.31535699469375855, 0.790767956609774, 0.47361714456672166]\n",
            "[0.2747382174748981, 0.9839198365127712, 0.18112614248998438]\n",
            "[0.749307734917304, 0.7120234456332561, 0.2797667218591786]\n"
          ]
        }
      ]
    },
    {
      "cell_type": "markdown",
      "source": [
        "5. Створіть два одновимірних масиви розміром 6, заповніть їх випадковими цілими числами в діапазоні від 1 до 20 та виконайте на них поелементні операції додавання, віднімання та множення."
      ],
      "metadata": {
        "id": "0oIUhZl9pzn7"
      }
    },
    {
      "cell_type": "code",
      "source": [
        "import random\n",
        "\n",
        "array1 = [random.randint(1, 20) for _ in range(6)]\n",
        "array2 = [random.randint(1, 20) for _ in range(6)]\n",
        "\n",
        "print(\"Масив 1:\", array1)\n",
        "print(\"Масив 2:\", array2)\n",
        "\n",
        "# Виконуємо додавання\n",
        "addition_result = [x + y for x, y in zip(array1, array2)]\n",
        "print(\"Додавання:\", addition_result)\n",
        "\n",
        "# Виконуємо віднімання\n",
        "subtraction_result = [x - y for x, y in zip(array1, array2)]\n",
        "print(\"Віднімання:\", subtraction_result)\n",
        "\n",
        "# Виконуємо множення\n",
        "multiplication_result = [x * y for x, y in zip(array1, array2)]\n",
        "print(\"Множення:\", multiplication_result)\n"
      ],
      "metadata": {
        "colab": {
          "base_uri": "https://localhost:8080/"
        },
        "id": "JQChefUgp498",
        "outputId": "cd895617-5b7e-435a-d5ce-14c1462286d6"
      },
      "execution_count": 8,
      "outputs": [
        {
          "output_type": "stream",
          "name": "stdout",
          "text": [
            "Масив 1: [12, 10, 19, 17, 14, 15]\n",
            "Масив 2: [4, 14, 7, 15, 3, 9]\n",
            "Додавання: [16, 24, 26, 32, 17, 24]\n",
            "Віднімання: [8, -4, 12, 2, 11, 6]\n",
            "Множення: [48, 140, 133, 255, 42, 135]\n"
          ]
        }
      ]
    },
    {
      "cell_type": "markdown",
      "source": [
        "6. Створіть два вектори розміром 5, заповніть їх довільними цілими числами та знайдіть їх скалярний добуток."
      ],
      "metadata": {
        "id": "6IRRZAePqJ8y"
      }
    },
    {
      "cell_type": "code",
      "source": [
        "\n",
        "vector1 = [7, 5, 7, 2, 1]\n",
        "vector2 = [1, 4, 2, 9, 8]\n",
        "\n",
        "scalar_product = sum(x * y for x, y in zip(vector1, vector2))\n",
        "\n",
        "print(\"Вектор 1:\", vector1)\n",
        "print(\"Вектор 2:\", vector2)\n",
        "print(\"Скалярний добуток:\", scalar_product)\n"
      ],
      "metadata": {
        "colab": {
          "base_uri": "https://localhost:8080/"
        },
        "id": "qmwgDydYqNrq",
        "outputId": "5e4650b4-a067-4156-e4b4-18d1ce41261c"
      },
      "execution_count": 9,
      "outputs": [
        {
          "output_type": "stream",
          "name": "stdout",
          "text": [
            "Вектор 1: [7, 5, 7, 2, 1]\n",
            "Вектор 2: [1, 4, 2, 9, 8]\n",
            "Скалярний добуток: 67\n"
          ]
        }
      ]
    },
    {
      "cell_type": "markdown",
      "source": [
        "7. Створіть дві матриці розміром 3x2 та 2x4, заповніть їх випадковими цілими числами в діапазоні від 1 до 20 та перемножте їх між собою."
      ],
      "metadata": {
        "id": "U-eLgw6Lqgfq"
      }
    },
    {
      "cell_type": "code",
      "source": [
        "import numpy as np\n",
        "\n",
        "matrix1 = np.random.randint(1, 21, size=(3, 2))\n",
        "matrix2 = np.random.randint(1, 21, size=(2, 4))\n",
        "\n",
        "print(\"Матриця 1:\")\n",
        "print(matrix1)\n",
        "print(\"\\nМатриця 2:\")\n",
        "print(matrix2)\n",
        "\n",
        "# Перемножуємо матриці\n",
        "result_matrix = np.dot(matrix1, matrix2)\n",
        "\n",
        "print(\"\\nРезультат множення матриць:\")\n",
        "print(result_matrix)\n"
      ],
      "metadata": {
        "colab": {
          "base_uri": "https://localhost:8080/"
        },
        "id": "R2rw4YSXqkKL",
        "outputId": "2a08f661-039e-46d7-dfdf-7e5a5698b37c"
      },
      "execution_count": 10,
      "outputs": [
        {
          "output_type": "stream",
          "name": "stdout",
          "text": [
            "Матриця 1:\n",
            "[[17 12]\n",
            " [ 1 20]\n",
            " [16 11]]\n",
            "\n",
            "Матриця 2:\n",
            "[[11 11 16  5]\n",
            " [19  9 18 18]]\n",
            "\n",
            "Результат множення матриць:\n",
            "[[415 295 488 301]\n",
            " [391 191 376 365]\n",
            " [385 275 454 278]]\n"
          ]
        }
      ]
    },
    {
      "cell_type": "markdown",
      "source": [
        "8. Створіть матрицю розміром 2x2, заповніть її випадковими цілими числами в діапазоні від 1 до 7 та знайдіть її обернену матрицю."
      ],
      "metadata": {
        "id": "rPkaS8BGq2yD"
      }
    },
    {
      "cell_type": "code",
      "source": [
        "import numpy as np\n",
        "\n",
        "matrix = np.random.randint(1, 8, size=(2, 2))\n",
        "\n",
        "print(\"Початкова матриця:\")\n",
        "print(matrix)\n",
        "\n",
        "# Знаходимо обернену матрицю\n",
        "try:\n",
        "    inverse_matrix = np.linalg.inv(matrix)\n",
        "    print(\"\\nОбернена матриця:\")\n",
        "    print(inverse_matrix)\n",
        "except np.linalg.LinAlgError:\n",
        "    print(\"\\nМатриця не має оберненої матриці, оскільки її визначник дорівнює 0.\")\n"
      ],
      "metadata": {
        "colab": {
          "base_uri": "https://localhost:8080/"
        },
        "id": "kUvKad1Eq6EC",
        "outputId": "81e065a8-fe8f-4789-f61e-a24460973a2c"
      },
      "execution_count": 11,
      "outputs": [
        {
          "output_type": "stream",
          "name": "stdout",
          "text": [
            "Початкова матриця:\n",
            "[[5 1]\n",
            " [2 4]]\n",
            "\n",
            "Обернена матриця:\n",
            "[[ 0.22222222 -0.05555556]\n",
            " [-0.11111111  0.27777778]]\n"
          ]
        }
      ]
    },
    {
      "cell_type": "markdown",
      "source": [
        "9. Створіть матрицю розміром 3x3, заповніть її випадковими дійсними числами в діапазоні від 0 до 1 та транспонуйте її."
      ],
      "metadata": {
        "id": "w4cQuC8qrRHj"
      }
    },
    {
      "cell_type": "code",
      "source": [
        "import numpy as np\n",
        "\n",
        "matrix = np.random.rand(3, 3)\n",
        "\n",
        "print(\"Початкова матриця:\")\n",
        "print(matrix)\n",
        "\n",
        "# Транспонуємо матрицю\n",
        "transposed_matrix = np.transpose(matrix)\n",
        "\n",
        "print(\"\\nТранспонована матриця:\")\n",
        "print(transposed_matrix)\n"
      ],
      "metadata": {
        "colab": {
          "base_uri": "https://localhost:8080/"
        },
        "id": "SRzYcGMmrU40",
        "outputId": "b5599eca-a3c0-4871-af4d-7b40ab9e3706"
      },
      "execution_count": 12,
      "outputs": [
        {
          "output_type": "stream",
          "name": "stdout",
          "text": [
            "Початкова матриця:\n",
            "[[0.33049276 0.41201743 0.54408825]\n",
            " [0.6717581  0.21002957 0.3717928 ]\n",
            " [0.14490489 0.71599873 0.98148532]]\n",
            "\n",
            "Транспонована матриця:\n",
            "[[0.33049276 0.6717581  0.14490489]\n",
            " [0.41201743 0.21002957 0.71599873]\n",
            " [0.54408825 0.3717928  0.98148532]]\n"
          ]
        }
      ]
    },
    {
      "cell_type": "markdown",
      "source": [
        "10. Створіть матрицю розміром 3x4 та вектор розміром 4, заповніть їх випадковими цілими числами в діапазоні від 1 до 10 та знайдіть суму елементів отриманого вектору."
      ],
      "metadata": {
        "id": "gUsgdmFLrqhq"
      }
    },
    {
      "cell_type": "code",
      "source": [
        "import numpy as np\n",
        "\n",
        "matrix = np.random.randint(1, 11, size=(3, 4))\n",
        "vector = np.random.randint(1, 11, size=4)\n",
        "\n",
        "print(\"Матриця:\")\n",
        "print(matrix)\n",
        "print(\"\\nВектор:\")\n",
        "print(vector)\n",
        "\n",
        "# Знаходимо суму елементів вектора\n",
        "vector_sum = np.sum(vector)\n",
        "\n",
        "print(\"\\nСума елементів вектора:\", vector_sum)\n"
      ],
      "metadata": {
        "colab": {
          "base_uri": "https://localhost:8080/"
        },
        "id": "u61c9ApDrtJ7",
        "outputId": "209242c6-688f-47a2-cca2-877b117c8552"
      },
      "execution_count": 13,
      "outputs": [
        {
          "output_type": "stream",
          "name": "stdout",
          "text": [
            "Матриця:\n",
            "[[5 8 1 2]\n",
            " [5 5 8 6]\n",
            " [7 3 7 4]]\n",
            "\n",
            "Вектор:\n",
            "[6 8 2 1]\n",
            "\n",
            "Сума елементів вектора: 17\n"
          ]
        }
      ]
    },
    {
      "cell_type": "markdown",
      "source": [
        "11. Створіть матрицю розміром 2x3 та вектор розміром 3, заповніть матрицю випадковими цілими числами в діапазоні від 1 до 10, а вектор - випадковими цілими числами в діапазоні від 1 до 10, і знайдіть добуток матриці на вектор."
      ],
      "metadata": {
        "id": "bHjsDvpQsCgD"
      }
    },
    {
      "cell_type": "code",
      "source": [
        "import numpy as np\n",
        "\n",
        "matrix = np.random.randint(1, 11, size=(2, 3))\n",
        "vector = np.random.randint(1, 11, size=3)\n",
        "\n",
        "print(\"Матриця:\")\n",
        "print(matrix)\n",
        "print(\"\\nВектор:\")\n",
        "print(vector)\n",
        "\n",
        "# Знаходимо добуток матриці на вектор\n",
        "result = np.dot(matrix, vector)\n",
        "\n",
        "print(\"\\nДобуток матриці на вектор:\")\n",
        "print(result)\n"
      ],
      "metadata": {
        "colab": {
          "base_uri": "https://localhost:8080/"
        },
        "id": "JEa_-cH7sHIC",
        "outputId": "d3a93cd6-efbf-4286-a2db-087ad095b165"
      },
      "execution_count": 14,
      "outputs": [
        {
          "output_type": "stream",
          "name": "stdout",
          "text": [
            "Матриця:\n",
            "[[ 4  6 10]\n",
            " [ 8  7  7]]\n",
            "\n",
            "Вектор:\n",
            "[ 5  2 10]\n",
            "\n",
            "Добуток матриці на вектор:\n",
            "[132 124]\n"
          ]
        }
      ]
    },
    {
      "cell_type": "markdown",
      "source": [
        "12. Створіть дві матриці розміром 2x2, заповніть їх випадковими цілими числами в діапазоні від 1 до 10 та знайдіть їхню суму."
      ],
      "metadata": {
        "id": "C3l69s1lsSfK"
      }
    },
    {
      "cell_type": "code",
      "source": [
        "import numpy as np\n",
        "\n",
        "matrix1 = np.random.randint(1, 11, size=(2, 2))\n",
        "matrix2 = np.random.randint(1, 11, size=(2, 2))\n",
        "\n",
        "print(\"Матриця 1:\")\n",
        "print(matrix1)\n",
        "print(\"\\nМатриця 2:\")\n",
        "print(matrix2)\n",
        "\n",
        "# Знаходимо суму матриць\n",
        "result_matrix = matrix1 + matrix2\n",
        "\n",
        "print(\"\\nСума матриць:\")\n",
        "print(result_matrix)\n"
      ],
      "metadata": {
        "colab": {
          "base_uri": "https://localhost:8080/"
        },
        "id": "WBHsDk6hsVOS",
        "outputId": "4dc06115-7fbb-4e66-edfa-e92e8355c770"
      },
      "execution_count": 15,
      "outputs": [
        {
          "output_type": "stream",
          "name": "stdout",
          "text": [
            "Матриця 1:\n",
            "[[8 4]\n",
            " [3 5]]\n",
            "\n",
            "Матриця 2:\n",
            "[[8 8]\n",
            " [2 6]]\n",
            "\n",
            "Сума матриць:\n",
            "[[16 12]\n",
            " [ 5 11]]\n"
          ]
        }
      ]
    },
    {
      "cell_type": "markdown",
      "source": [
        "13. Створіть дві матриці розміром 2x2, заповніть їх випадковими дійсними числами в діапазоні від 0 до 1 та знайдіть їх добуток."
      ],
      "metadata": {
        "id": "wEUR0PwRsgLy"
      }
    },
    {
      "cell_type": "code",
      "source": [
        "import numpy as np\n",
        "\n",
        "matrix1 = np.random.rand(2, 2)\n",
        "matrix2 = np.random.rand(2, 2)\n",
        "\n",
        "print(\"Матриця 1:\")\n",
        "print(matrix1)\n",
        "print(\"\\nМатриця 2:\")\n",
        "print(matrix2)\n",
        "\n",
        "# Знаходимо добуток матриць\n",
        "result_matrix = np.dot(matrix1, matrix2)\n",
        "\n",
        "print(\"\\nДобуток матриць:\")\n",
        "print(result_matrix)\n"
      ],
      "metadata": {
        "colab": {
          "base_uri": "https://localhost:8080/"
        },
        "id": "KBF69olSsirq",
        "outputId": "99b6846c-0e79-4649-dee7-35080d31852a"
      },
      "execution_count": 16,
      "outputs": [
        {
          "output_type": "stream",
          "name": "stdout",
          "text": [
            "Матриця 1:\n",
            "[[0.13202672 0.78797307]\n",
            " [0.17540375 0.19291545]]\n",
            "\n",
            "Матриця 2:\n",
            "[[0.50612173 0.29474445]\n",
            " [0.67329174 0.50802272]]\n",
            "\n",
            "Добуток матриць:\n",
            "[[0.59735735 0.43922236]\n",
            " [0.21866403 0.14970472]]\n"
          ]
        }
      ]
    },
    {
      "cell_type": "markdown",
      "source": [
        "14. Створіть матрицю розміром 5x5, заповніть її випадковими дійсними числами в діапазоні від 0 до 1 та знайдіть суму елементів матриці."
      ],
      "metadata": {
        "id": "rPvHOQLTs4sy"
      }
    },
    {
      "cell_type": "code",
      "source": [
        "import numpy as np\n",
        "\n",
        "matrix = np.random.rand(5, 5)\n",
        "\n",
        "print(\"Матриця:\")\n",
        "print(matrix)\n",
        "\n",
        "# Знаходимо суму елементів матриці\n",
        "matrix_sum = np.sum(matrix)\n",
        "\n",
        "print(\"\\nСума елементів матриці:\", matrix_sum)\n"
      ],
      "metadata": {
        "colab": {
          "base_uri": "https://localhost:8080/"
        },
        "id": "t-qK2vF_s7fS",
        "outputId": "37390398-c47d-451e-e2e8-aa5a72aebc8e"
      },
      "execution_count": 17,
      "outputs": [
        {
          "output_type": "stream",
          "name": "stdout",
          "text": [
            "Матриця:\n",
            "[[0.53108487 0.78071494 0.61623533 0.78147549 0.74483797]\n",
            " [0.25053383 0.86861805 0.73717413 0.38969412 0.06613581]\n",
            " [0.22630637 0.85232    0.77925307 0.30313589 0.4741116 ]\n",
            " [0.06170307 0.34337397 0.05517108 0.85805243 0.28849261]\n",
            " [0.79068626 0.80115727 0.34385508 0.6770526  0.02484827]]\n",
            "\n",
            "Сума елементів матриці: 12.646024088076597\n"
          ]
        }
      ]
    },
    {
      "cell_type": "markdown",
      "source": [
        "15. Створіть матрицю розміром 3x3, заповніть її випадковими дійсними числами в діапазоні від -1 до 1 та знайдіть вектор-стовпчик, що містить суму елементів кожного рядка матриці."
      ],
      "metadata": {
        "id": "AWPdEVLItH9q"
      }
    },
    {
      "cell_type": "code",
      "source": [
        "import numpy as np\n",
        "\n",
        "matrix = np.random.uniform(-1, 1, size=(3, 3))\n",
        "\n",
        "print(\"Матриця:\")\n",
        "print(matrix)\n",
        "\n",
        "# Знаходимо вектор-стовпчик, що містить суму елементів кожного рядка матриці\n",
        "row_sums = np.sum(matrix, axis=1)\n",
        "\n",
        "# Перетворюємо вектор-рядок на вектор-стовпчик\n",
        "column_vector = row_sums.reshape(-1, 1)\n",
        "\n",
        "print(\"\\nВектор-стовпчик сум рядків матриці:\")\n",
        "print(column_vector)\n"
      ],
      "metadata": {
        "colab": {
          "base_uri": "https://localhost:8080/"
        },
        "id": "tLXLRGyhtLXy",
        "outputId": "dd1027d0-bee8-4a79-d47b-5b4955f3eb10"
      },
      "execution_count": 18,
      "outputs": [
        {
          "output_type": "stream",
          "name": "stdout",
          "text": [
            "Матриця:\n",
            "[[ 0.70287408  0.31046249  0.6936223 ]\n",
            " [ 0.69826983  0.22357757 -0.22166041]\n",
            " [-0.87746577 -0.82531017 -0.73505119]]\n",
            "\n",
            "Вектор-стовпчик сум рядків матриці:\n",
            "[[ 1.70695888]\n",
            " [ 0.70018699]\n",
            " [-2.43782713]]\n"
          ]
        }
      ]
    },
    {
      "cell_type": "markdown",
      "source": [
        " Висновок: У цій практичній роботі я вивчила, як працювати з матрицями та векторами в мові програмування Python, використовуючи бібліотеку NumPy. Я також розглянула такі операції, як створення матриць та векторів з випадковими числами, заповнення їх певними значеннями, обчислення суми елементів, знаходження добутку матриць та векторів, а також транспонування матриць."
      ],
      "metadata": {
        "id": "J5cHiUZftnz0"
      }
    }
  ]
}